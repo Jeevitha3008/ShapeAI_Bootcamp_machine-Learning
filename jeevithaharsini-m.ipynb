import numpy as np
import pandas as pd
import sklearn
from sklearn.datasets import load_boston
df=load_boston()
print(df.DESCR)
boston=pd.DataFrame(dfdata,columns=df.feature_names)
boston.head()
boston.['medv']=df.target
boston.head()
boston.isnull.sum()
from sklearn.model_selection import train_test_split
x=boston.drop('medv',axis=1)
y=boston['medv']
x_train,x_test,y_train,y_test=train_test_split(x,y,test_size=0.15,random_state=5)
print(x_train.shape)
print(x_test.shape)
print(y_train.shape)
print(y_test.shape)
from sklearn.linear_model import Linear Regression
from sklearn.metrics import mean_squared_error
lin_model=Linear Regression()
lin_model.fit(x_train,y_train)
y_train_predict=lin_model.predict(x_train)
rmse=(np.sqrt(mean_squared_error(y_train,y_train_predict )))
print("the model performance for train set")
print("the model performance for training set")
print('RMSE is{}',format(rmse))
print("\n")
y_train_predict=lin_model.predict(x-test)
rmse=(np.sqrt(mean_squared_error(y_test,y_test_predict )))
print("the model performance for testing set")
print('RMSE is{}',format(rmse))
